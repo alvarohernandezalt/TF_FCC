{
  "nbformat": 4,
  "nbformat_minor": 0,
  "metadata": {
    "colab": {
      "provenance": []
    },
    "kernelspec": {
      "name": "python3",
      "display_name": "Python 3"
    },
    "language_info": {
      "name": "python"
    }
  },
  "cells": [
    {
      "cell_type": "markdown",
      "source": [
        "## FCC_01_TITANIC\n",
        "\n",
        "[TrainDATA](https://storage.googleapis.com/tf-datasetes/titanic/train.csv)<br>\n",
        "[EvaluateDATA](https://storage.googleapis.com/tf-datasetes/titanic/eval.csv)\n",
        "\n",
        "The very first step is, always, to understand the data and explore it."
      ],
      "metadata": {
        "id": "mx1g4mXSNXfl"
      }
    },
    {
      "cell_type": "code",
      "source": [
        "from __future__ import absolute_import, division, print_function, unicode_literals\n",
        "\n",
        "import matplotlib.pyplot as plt\n",
        "from IPython.display import clear_output\n",
        "from six.moves import urllib\n",
        "\n",
        "import pandas as pd\n",
        "import numpy as np\n",
        "\n",
        "import tensorflow.compat.v2.feature_column as fc\n",
        "import tensorflow as tf"
      ],
      "metadata": {
        "id": "WK9WzA5fONBt"
      },
      "execution_count": 1,
      "outputs": []
    },
    {
      "cell_type": "code",
      "source": [
        "dftrain = pd.read_csv('/content/drive/MyDrive/Colab Notebooks/03_TF/FCC_TF/FCC_DATA/Titanic/train.csv')\n",
        "dfeval = pd.read_csv('/content/drive/MyDrive/Colab Notebooks/03_TF/FCC_TF/FCC_DATA/Titanic/test.csv')\n",
        "\n",
        "y_train = dftrain.pop('Survived')\n",
        "y_eval = dfeval\n",
        "\n",
        "dftrain, dfeval\n"
      ],
      "metadata": {
        "colab": {
          "base_uri": "https://localhost:8080/"
        },
        "id": "D77RK0iuQSL0",
        "outputId": "446b75a1-1d0f-4851-a342-a0d0b8b66e65"
      },
      "execution_count": 8,
      "outputs": [
        {
          "output_type": "execute_result",
          "data": {
            "text/plain": [
              "(     PassengerId  Pclass                                               Name  \\\n",
              " 0              1       3                            Braund, Mr. Owen Harris   \n",
              " 1              2       1  Cumings, Mrs. John Bradley (Florence Briggs Th...   \n",
              " 2              3       3                             Heikkinen, Miss. Laina   \n",
              " 3              4       1       Futrelle, Mrs. Jacques Heath (Lily May Peel)   \n",
              " 4              5       3                           Allen, Mr. William Henry   \n",
              " ..           ...     ...                                                ...   \n",
              " 886          887       2                              Montvila, Rev. Juozas   \n",
              " 887          888       1                       Graham, Miss. Margaret Edith   \n",
              " 888          889       3           Johnston, Miss. Catherine Helen \"Carrie\"   \n",
              " 889          890       1                              Behr, Mr. Karl Howell   \n",
              " 890          891       3                                Dooley, Mr. Patrick   \n",
              " \n",
              "         Sex   Age  SibSp  Parch            Ticket     Fare Cabin Embarked  \n",
              " 0      male  22.0      1      0         A/5 21171   7.2500   NaN        S  \n",
              " 1    female  38.0      1      0          PC 17599  71.2833   C85        C  \n",
              " 2    female  26.0      0      0  STON/O2. 3101282   7.9250   NaN        S  \n",
              " 3    female  35.0      1      0            113803  53.1000  C123        S  \n",
              " 4      male  35.0      0      0            373450   8.0500   NaN        S  \n",
              " ..      ...   ...    ...    ...               ...      ...   ...      ...  \n",
              " 886    male  27.0      0      0            211536  13.0000   NaN        S  \n",
              " 887  female  19.0      0      0            112053  30.0000   B42        S  \n",
              " 888  female   NaN      1      2        W./C. 6607  23.4500   NaN        S  \n",
              " 889    male  26.0      0      0            111369  30.0000  C148        C  \n",
              " 890    male  32.0      0      0            370376   7.7500   NaN        Q  \n",
              " \n",
              " [891 rows x 11 columns],\n",
              "      PassengerId  Pclass                                          Name  \\\n",
              " 0            892       3                              Kelly, Mr. James   \n",
              " 1            893       3              Wilkes, Mrs. James (Ellen Needs)   \n",
              " 2            894       2                     Myles, Mr. Thomas Francis   \n",
              " 3            895       3                              Wirz, Mr. Albert   \n",
              " 4            896       3  Hirvonen, Mrs. Alexander (Helga E Lindqvist)   \n",
              " ..           ...     ...                                           ...   \n",
              " 413         1305       3                            Spector, Mr. Woolf   \n",
              " 414         1306       1                  Oliva y Ocana, Dona. Fermina   \n",
              " 415         1307       3                  Saether, Mr. Simon Sivertsen   \n",
              " 416         1308       3                           Ware, Mr. Frederick   \n",
              " 417         1309       3                      Peter, Master. Michael J   \n",
              " \n",
              "         Sex   Age  SibSp  Parch              Ticket      Fare Cabin Embarked  \n",
              " 0      male  34.5      0      0              330911    7.8292   NaN        Q  \n",
              " 1    female  47.0      1      0              363272    7.0000   NaN        S  \n",
              " 2      male  62.0      0      0              240276    9.6875   NaN        Q  \n",
              " 3      male  27.0      0      0              315154    8.6625   NaN        S  \n",
              " 4    female  22.0      1      1             3101298   12.2875   NaN        S  \n",
              " ..      ...   ...    ...    ...                 ...       ...   ...      ...  \n",
              " 413    male   NaN      0      0           A.5. 3236    8.0500   NaN        S  \n",
              " 414  female  39.0      0      0            PC 17758  108.9000  C105        C  \n",
              " 415    male  38.5      0      0  SOTON/O.Q. 3101262    7.2500   NaN        S  \n",
              " 416    male   NaN      0      0              359309    8.0500   NaN        S  \n",
              " 417    male   NaN      1      1                2668   22.3583   NaN        C  \n",
              " \n",
              " [418 rows x 11 columns])"
            ]
          },
          "metadata": {},
          "execution_count": 8
        }
      ]
    },
    {
      "cell_type": "code",
      "source": [],
      "metadata": {
        "id": "GmS70-XqQnvT"
      },
      "execution_count": 2,
      "outputs": []
    }
  ]
}